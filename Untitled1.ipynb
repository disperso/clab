{
  "cells": [
    {
      "cell_type": "markdown",
      "metadata": {
        "id": "view-in-github",
        "colab_type": "text"
      },
      "source": [
        "<a href=\"https://colab.research.google.com/github/disperso/clab/blob/main/Untitled1.ipynb\" target=\"_parent\"><img src=\"https://colab.research.google.com/assets/colab-badge.svg\" alt=\"Open In Colab\"/></a>"
      ]
    },
    {
      "cell_type": "markdown",
      "metadata": {
        "id": "Xd6Jlo8JEkGw"
      },
      "source": []
    },
    {
      "cell_type": "code",
      "execution_count": null,
      "metadata": {
        "colab": {
          "base_uri": "https://localhost:8080/"
        },
        "id": "bINzAIfQM_Lg",
        "outputId": "3a493fce-c205-4caa-998f-8c8fffeeebf1"
      },
      "outputs": [
        {
          "name": "stdout",
          "output_type": "stream",
          "text": [
            "¿Cuántos estudiantes quieres agregar?: 2\n",
            "Introduce el nombre del estudiante 1: pepe\n",
            "Introduce la calificación de pepe: 4\n",
            "Introduce el nombre del estudiante 2: juan\n",
            "Introduce la calificación de juan: 3\n",
            "Diccionario de estudiantes y calificaciones: {'pepe': 4, 'juan': 3}\n"
          ]
        }
      ],
      "source": [
        "# Crear un diccionario vacío\n",
        "calificaciones = {}\n",
        "\n",
        "# Pedir el número de estudiantes\n",
        "num_estudiantes = int(input(\"¿Cuántos estudiantes quieres agregar?: \"))\n",
        "\n",
        "# Agregar estudiantes y calificaciones al diccionario\n",
        "for i in range(num_estudiantes):\n",
        "    nombre = input(f\"Introduce el nombre del estudiante {i + 1}: \")\n",
        "    calificacion = int(input(f\"Introduce la calificación de {nombre}: \"))\n",
        "    calificaciones[nombre] = calificacion\n",
        "\n",
        "# Mostrar el diccionario con las calificaciones\n",
        "print(\"Diccionario de estudiantes y calificaciones:\", calificaciones)"
      ]
    },
    {
      "cell_type": "markdown",
      "metadata": {
        "id": "rHd6RBA7EiTR"
      },
      "source": []
    },
    {
      "cell_type": "code",
      "execution_count": null,
      "metadata": {
        "colab": {
          "base_uri": "https://localhost:8080/"
        },
        "id": "MFCwODjLcQOe",
        "outputId": "7ee54b4a-eb08-4ee4-9f0a-c9469859ac92"
      },
      "outputs": [
        {
          "data": {
            "text/plain": [
              "dict"
            ]
          },
          "execution_count": 3,
          "metadata": {},
          "output_type": "execute_result"
        }
      ],
      "source": [
        "nombre={}\n",
        "nom='pepe'\n",
        "nombre[nom]=[3,4,5]\n",
        "nom='juan'\n",
        "nombre[nom]=[5,6,7]\n",
        "nombre[nom]=[1,2]\n",
        "nom='andres'\n",
        "nombre[nom]=[1,2]\n",
        "type (nombre)\n",
        "\n",
        "\n"
      ]
    },
    {
      "cell_type": "code",
      "execution_count": null,
      "metadata": {
        "id": "EfEcIzAkxE29"
      },
      "outputs": [],
      "source": [
        "import os\n",
        "import platform\n",
        "import time\n",
        "\n",
        "def limp():\n",
        "  time.sleep (2)\n",
        "\n",
        "  if platform.system()=='Windows':\n",
        "   os.system('cls')\n",
        "  else:\n",
        "    os.system('clear')\n"
      ]
    },
    {
      "cell_type": "markdown",
      "metadata": {
        "id": "xpUiC1i50gCU"
      },
      "source": [
        "Ejercicio 9"
      ]
    },
    {
      "cell_type": "code",
      "execution_count": null,
      "metadata": {
        "colab": {
          "base_uri": "https://localhost:8080/"
        },
        "id": "Bhg3yHfs3O_6",
        "outputId": "629b7f2e-5e2c-49dc-86d3-cfa40fb33e31"
      },
      "outputs": [
        {
          "name": "stdout",
          "output_type": "stream",
          "text": [
            "1. Lista de libros\n",
            "2. Lista de socios\n",
            "3. Gestión préstamo\n",
            "4. Nuevo libro\n",
            "5. Nuevo socio\n",
            "\n",
            "Elige opción 1\n",
            "Listado libros\n",
            "1          El nombre de la rosa             Ecco\n",
            "2          La Regenta             Clarin\n",
            "3          El hobbit             Tolkien\n"
          ]
        }
      ],
      "source": [
        "libros={1:{'tit':'El nombre de la rosa','aut':'Ecco','año':1986,'dsp':'s'},2:{'tit':'La Regenta','aut':'Clarin','año':1884,'dsp':'s'},3:{'tit':'El hobbit','aut':'Tolkien','año':1937,'dsp':'s'}}\n",
        "socios={1:{'nom':'Jose','dni':'94883729','tel':'699526232','num':0},2:{'nom':'Maria','dni':'924332298','tel':'897221884','num':0},3:{'nom':'Gabriel','dni':'10032001','tel':'800765432','num':0}}\n",
        "\n",
        "def fn01():\n",
        "  print('Listado libros')\n",
        "  for i in range(len(libros)):\n",
        "      print(f\"{i+1}\",f\"         {libros[i+1]['tit']}           \",f\" {libros[i+1]['aut']}\")\n",
        "\n",
        "\n",
        "def fn02():\n",
        "  print('Listado socios')\n",
        "  for i in range(len(socios)):\n",
        "    print(f\"{i+1}\",f\"         {socios[i+1]['nom']}           \",f\" {socios[i+1]['dni']}\")\n",
        "\n",
        "\n",
        "\n",
        "def fn04():\n",
        "  l=len(libros)\n",
        "  print (f\"Libro número {l+1}\")\n",
        "  libros[l+1]=({'tit':'','aut':'','año':''})\n",
        "  libros[l+1]['tit']=input(\"Titulo del libro \")\n",
        "  libros[l+1]['aut']=input(\"Autor \")\n",
        "  libros[l+1]['año']=input(\"Año de publicación \")\n",
        "\n",
        "\n",
        "def fn05():\n",
        "  l=len(socios)\n",
        "  print (f\"Socio número {l+1}\")\n",
        "  socios[l+1]=({'nom':'','dni':'','tel':''})\n",
        "  socios[l+1]['nom']=input(\"Nombre \")\n",
        "  socios[l+1]['dni']=input(\"DNI \")\n",
        "  socios[l+1]['tel']=input(\"Teléfono \")\n",
        "\n",
        "#while c1<c2:\n",
        "print('1. Lista de libros')\n",
        "print('2. Lista de socios')\n",
        "print('3. Gestión préstamo')\n",
        "print('4. Nuevo libro')\n",
        "print('5. Nuevo socio')\n",
        "print('')\n",
        "\n",
        "p=int(input(\"Elige opción \"))\n",
        "\n",
        "if p==1:\n",
        "  fn01()\n",
        "if p==2:\n",
        "  fn02()\n",
        "if p==3:\n",
        "  print(2)\n",
        "if p==4:\n",
        "  fn04()\n",
        "if p==5:\n",
        "  fn05()\n",
        "\n",
        "\n",
        "\n",
        "\n",
        "\n",
        "\n",
        "\n",
        "\n",
        "\n",
        "\n",
        "\n",
        "\n",
        "\n",
        "\n",
        "\n"
      ]
    },
    {
      "cell_type": "code",
      "execution_count": null,
      "metadata": {
        "id": "2iP0e5hFnpXs"
      },
      "outputs": [],
      "source": []
    },
    {
      "cell_type": "markdown",
      "metadata": {
        "id": "QIaeqGCii8D8"
      },
      "source": []
    },
    {
      "cell_type": "code",
      "execution_count": null,
      "metadata": {
        "colab": {
          "base_uri": "https://localhost:8080/"
        },
        "id": "ESt33rdC3P1a",
        "outputId": "46e7023b-5977-49d5-a79d-b05044443f1e"
      },
      "outputs": [
        {
          "name": "stdout",
          "output_type": "stream",
          "text": [
            "Hola\n",
            "Hola\n"
          ]
        }
      ],
      "source": [
        "import os\n",
        "import platform\n",
        "import time\n",
        "\n",
        "def limp():\n",
        "  time.sleep (2)\n",
        "\n",
        "  if platform.system()=='Windows':\n",
        "   os.system('cls')\n",
        "  else:\n",
        "    os.system('clear')\n",
        "\n",
        "print('Hola')\n",
        "\n",
        "limp()\n",
        "\n",
        "print('Hola')"
      ]
    },
    {
      "cell_type": "code",
      "execution_count": null,
      "metadata": {
        "id": "iLbUe2TyiTnA"
      },
      "outputs": [],
      "source": [
        "import pygame\n",
        "pygame.init()\n",
        "ventana = pygame.display.set_mode((640,480))\n",
        "pygame.display.set_caption(\"Ejemplo 1\")\n",
        "ventana.fill(( 252, 243, 207 ))\n",
        "pygame.display.flip()\n",
        "pygame.quit()"
      ]
    },
    {
      "cell_type": "code",
      "execution_count": null,
      "metadata": {
        "colab": {
          "base_uri": "https://localhost:8080/",
          "height": 106
        },
        "id": "DKUNPLCazDOa",
        "outputId": "7a9699c5-30f1-4870-be9c-831dd70e3669"
      },
      "outputs": [
        {
          "ename": "IndentationError",
          "evalue": "expected an indented block after 'for' statement on line 11 (<ipython-input-180-ed94d4b29765>, line 14)",
          "output_type": "error",
          "traceback": [
            "\u001b[0;36m  File \u001b[0;32m\"<ipython-input-180-ed94d4b29765>\"\u001b[0;36m, line \u001b[0;32m14\u001b[0m\n\u001b[0;31m    -\u001b[0m\n\u001b[0m    ^\u001b[0m\n\u001b[0;31mIndentationError\u001b[0m\u001b[0;31m:\u001b[0m expected an indented block after 'for' statement on line 11\n"
          ]
        }
      ],
      "source": [
        "mat1=[[0,0,5],[0,1,3],[0,2,7],[1,0,3],[1,1,2],[1,2,2],[2,0,7],[2,1,2],[2,2,5]]\n",
        "\n",
        "#n=int(input(\"número de filas \"))\n",
        "#n=3\n",
        "#for i in range (n):\n",
        " # for j in range(n):\n",
        "    #j=input(\"Introduce número\")\n",
        "  #  mat1.append([i,j,j])\n",
        "\n",
        "l3=0\n",
        "for p in range(3):\n",
        "\n",
        "#dato1[][0]\n",
        "#dato2[][1]\n",
        "#dato3[][-1]\n",
        "  s=(mat1[p][1])\n",
        "  t=(mat1[p][0])\n",
        "  l1=mat1[p][-1]\n",
        "  for q in range(int(n))\n",
        "    if s==(mat1[p][0]) & t==(mat1[p][1]):\n",
        "      l2=mat1[q][-1]\n",
        "\n",
        "#print(mat1[p][-1])"
      ]
    },
    {
      "cell_type": "code",
      "execution_count": null,
      "metadata": {
        "colab": {
          "base_uri": "https://localhost:8080/"
        },
        "id": "4aK119Am40Kp",
        "outputId": "faf7436f-1d72-4b2a-a964-9050f6711f04"
      },
      "outputs": [
        {
          "name": "stdout",
          "output_type": "stream",
          "text": [
            "Namber of deita?30\n",
            "[[95], [18], [57], [48], [33], [1], [35], [66], [10], [12], [34], [25], [85], [80], [79], [99], [85], [98], [25], [33], [89], [22], [59], [14], [84], [90], [36], [76], [39], [38]]\n",
            "[[95], [18], [57], [48], [33], [1], [35], [66], [10], [12], [34], [25], [85], [80], [79], [99], [85], [98], [25], [33], [89], [22], [59], [14], [84], [90], [36], [76], [39], [38]]\n",
            "[[1], [10], [12], [14], [18], [22], [25], [25], [33], [33], [34], [35], [36], [38], [39], [48], [57], [59], [66], [76], [79], [80], [84], [85], [85], [89], [90], [95], [98], [99]]\n"
          ]
        }
      ],
      "source": [
        "from random import randrange\n",
        "list1=[]\n",
        "n=int(input(\"Namber of deita?\"))\n",
        "for i in range(n):\n",
        "  list1.append([randrange(0, 101, 1)])\n",
        "\n",
        "tup1=list1\n",
        "\n",
        "print(tup1)\n",
        "\n",
        "list2=tup1\n",
        "\n",
        "print(list2)\n",
        "\n",
        "for i in range (len(list2)):\n",
        "  for j in range (len(list2)-1):\n",
        "    if list2[j]>list2[j+1]:\n",
        "      p=list2[j]\n",
        "      list2[j]=list2[j+1]\n",
        "      list2[j+1]=p\n",
        "print(list2)"
      ]
    },
    {
      "cell_type": "code",
      "execution_count": null,
      "metadata": {
        "colab": {
          "base_uri": "https://localhost:8080/"
        },
        "collapsed": true,
        "id": "biGFKH-gFyx7",
        "outputId": "d9e2c293-2d99-42d5-ea08-56e4744fef05"
      },
      "outputs": [
        {
          "name": "stdout",
          "output_type": "stream",
          "text": [
            "namber?2\n",
            "namber?3\n",
            "namber?0\n",
            "namber?0\n",
            "namber?88\n",
            "Namber of sirous 2\n"
          ]
        }
      ],
      "source": [
        "\n",
        "p=0\n",
        "\n",
        "while int(i!=88):\n",
        "  i=int(input (\"namber?\"))\n",
        "  if i==0:\n",
        "    p=p+1\n",
        "print(f\"Namber of sirous {p}\")\n",
        "i=0"
      ]
    },
    {
      "cell_type": "code",
      "execution_count": null,
      "metadata": {
        "colab": {
          "base_uri": "https://localhost:8080/"
        },
        "id": "JfeG0K1hNt3j",
        "outputId": "5bf39b22-9402-4a1e-c0e6-652d42efada5"
      },
      "outputs": [
        {
          "name": "stdout",
          "output_type": "stream",
          "text": [
            "insert temperter?3\n",
            "3\n",
            "3\n",
            "insert temperter?3\n",
            "3\n",
            "3\n",
            "insert temperter?5\n",
            "5\n",
            "3\n",
            "Midia excedid\n",
            "insert temperter?2\n",
            "2\n",
            "3\n",
            "insert temperter?88\n",
            "88\n",
            "20\n",
            "Midia excedid\n",
            "fin\n"
          ]
        }
      ],
      "source": [
        "p=0\n",
        "q=0\n",
        "i=0\n",
        "m=0\n",
        "while (i<=10 and p!=int(88)):\n",
        "  p=int(input (\"insert temperter?\"))\n",
        "  q=q+p\n",
        "  print(p)\n",
        "  i=i+1\n",
        "  m=int(q/i)\n",
        "  print(m)\n",
        "  if p>m:\n",
        "    print('Midia excedid')\n",
        "i=0\n",
        "print('fin')"
      ]
    },
    {
      "cell_type": "code",
      "execution_count": null,
      "metadata": {
        "colab": {
          "base_uri": "https://localhost:8080/"
        },
        "collapsed": true,
        "id": "B-K3RRw3ADDg",
        "outputId": "1d61b515-b948-4df5-8305-da3dc0b1727a"
      },
      "outputs": [
        {
          "name": "stdout",
          "output_type": "stream",
          "text": [
            "Instrucciones s/n? n\n",
            "Nombre jugador 1? pepe\n",
            "Nombre jugador 2? juan\n",
            "Tirada número 1 \n",
            "Tirada de pepe:  2  tij \n",
            "Tirada de juan:  0  pie \n",
            "gana juan  y lleva 1 puntos\n",
            "\n",
            "Tirada número 2 \n",
            "Tirada de pepe:  1  pap \n",
            "Tirada de juan:  2  tij \n",
            "gana juan  y lleva 2 puntos\n",
            "\n",
            "Tirada número 3 \n",
            "Tirada de pepe:  2  tij \n",
            "Tirada de juan:  2  tij \n",
            "Empate\n",
            "Tirada número 4 \n",
            "Tirada de pepe:  1  pap \n",
            "Tirada de juan:  2  tij \n",
            "gana juan  y lleva 3 puntos\n",
            "\n",
            "Tirada número 5 \n",
            "Tirada de pepe:  2  tij \n",
            "Tirada de juan:  1  pap \n",
            "gana pepe  y lleva 1 puntos\n",
            "\n",
            "Tirada número 6 \n",
            "Tirada de pepe:  0  pie \n",
            "Tirada de juan:  2  tij \n",
            "gana pepe  y lleva 2 puntos\n",
            "\n",
            "Tirada número 7 \n",
            "Tirada de pepe:  0  pie \n",
            "Tirada de juan:  1  pap \n",
            "gana juan  y lleva 4 puntos\n",
            "\n",
            "Tirada número 8 \n",
            "Tirada de pepe:  0  pie \n",
            "Tirada de juan:  1  pap \n",
            "gana juan  y lleva 5 puntos\n",
            "\n",
            "Tirada número 9 \n",
            "Tirada de pepe:  1  pap \n",
            "Tirada de juan:  1  pap \n",
            "Empate\n",
            "Tirada número 10 \n",
            "Tirada de pepe:  2  tij \n",
            "Tirada de juan:  2  tij \n",
            "Empate\n",
            "\n",
            "\n",
            "PUNTOS TOTALES\n",
            "\n",
            "pepe  2 puntos\n",
            " \n",
            "juan  5 puntos\n",
            " \n",
            "GANA juan!!!!!!!\n"
          ]
        }
      ],
      "source": [
        "from random import randrange\n",
        "\n",
        "def instruc():\n",
        "  print('\\n\\nPiedra, papel, tijera. Cada uno de los dos jugadores elige una de las tres\\nopciones sin conocer la tirada del otro jugador.\\n\\nEl ganador de cada tirada se determina siguiendo este criterio:\\n\\nPapel gana a piedra, piedra gana a tijera y tijera gana a papel\\n\\n10 tiradas + ronda de desempate')\n",
        "\n",
        "def p01(dat):\n",
        "  pie='pie'\n",
        "  pap='pap'\n",
        "  tij='tij'\n",
        "  if dat==0:\n",
        "    return pie\n",
        "  if dat==1:\n",
        "    return pap\n",
        "  if dat==2:\n",
        "    return tij\n",
        "\n",
        "def p02(pj1,pj2):\n",
        "  if ((pj1=='tij' and pj2=='pap') or (pj1=='pie' and pj2=='tij') or (pj1=='pap' and pj2=='pie')):\n",
        "    return pj1\n",
        "  elif ((pj1=='tij' and pj2=='tij') or (pj1=='pie' and pj2=='pie') or (pj1=='pap' and pj2=='pap')):\n",
        "    return 0\n",
        "  else:\n",
        "    return pj2\n",
        "\n",
        "#def p03()\n",
        "\n",
        "\n",
        "\n",
        "\n",
        "\n",
        "pre=input(\"Instrucciones s/n? \")\n",
        "if (pre==('s')):\n",
        "  instruc()\n",
        "\n",
        "p1=input(\"Nombre jugador 1? \")\n",
        "p2=input(\"Nombre jugador 2? \")\n",
        "\n",
        "i=0\n",
        "px1=0\n",
        "px2=0\n",
        "\n",
        "while(i<10):\n",
        "  print(f\"Tirada número {i+1} \")\n",
        "  t=randrange(0,3,1)\n",
        "  pp1=p01(t)\n",
        "  print(f\"Tirada de {p1}: \",f\"{t} \",f\"{pp1} \")\n",
        "  t=randrange(0,3,1)\n",
        "  pp2=p01(t)\n",
        "  print(f\"Tirada de {p2}: \",f\"{t} \",f\"{pp2} \")\n",
        "  if (p02(pp1,pp2)==pp1):\n",
        "    px1=px1+1\n",
        "    print(f\"gana {p1} \",f\"y lleva {px1} puntos\\n\")\n",
        "  if (p02(pp1,pp2)==pp2):\n",
        "    px2=px2+1\n",
        "    print(f\"gana {p2} \",f\"y lleva {px2} puntos\\n\")\n",
        "  if (p02(pp1,pp2)==0):\n",
        "    print(f\"Empate\")\n",
        "  i=i+1\n",
        "\n",
        "print(\"\\n\\nPUNTOS TOTALES\\n\")\n",
        "print(f\"{p1} \",f\"{px1} puntos\\n \")\n",
        "print(f\"{p2} \",f\"{px2} puntos\\n \")\n",
        "\n",
        "\n",
        "while (px1==px2):\n",
        "  print(\"Ronda de desempate\\n\\n\")\n",
        "  t=randrange(0,3,1)\n",
        "  pp1=p01(t)\n",
        "  print(f\"Tirada de {p1}: \",f\"{t} \",f\"{pp1} \")\n",
        "  t=randrange(0,3,1)\n",
        "  pp2=p01(t)\n",
        "  print(f\"Tirada de {p2}: \",f\"{t} \",f\"{pp2} \")\n",
        "  if (p02(pp1,pp2)==pp1):\n",
        "    px1=px1+1\n",
        "    print(f\"gana {p1} \",f\"y lleva {px1} puntos\\n\")\n",
        "  if (p02(pp1,pp2)==pp2):\n",
        "    px2=px2+1\n",
        "\n",
        "if (px1>px2):\n",
        "  print(f\"GANA {p1}!!!!!!!\")\n",
        "else:\n",
        "  print(f\"GANA {p2}!!!!!!!\")\n",
        "\n",
        "\n",
        "\n",
        "\n"
      ]
    },
    {
      "cell_type": "code",
      "execution_count": null,
      "metadata": {
        "colab": {
          "background_save": true,
          "base_uri": "https://localhost:8080/"
        },
        "id": "Yqf1HEegAC8Y",
        "outputId": "cccd51a2-caf5-40c4-edc6-74e74f93d79e"
      },
      "outputs": [
        {
          "name": "stdout",
          "output_type": "stream",
          "text": [
            "1. Crear registro\n",
            "2. Modificar registro\n",
            "3. Eliminar registro\n",
            "4. Salir\n"
          ]
        }
      ],
      "source": [
        "\n",
        "def fn01():\n",
        "  #nombre=input(\"introduce nombre \")\n",
        "  nombre=('jose')\n",
        "  agen[nombre]=int(input(\"telefono\"))\n",
        "  print (agen)\n",
        "def fn02():\n",
        "  print(\"dos\")\n",
        "\n",
        "def fn03():\n",
        "  print(\"tres\")\n",
        "\n",
        "def fn04():\n",
        "  SystemExit\n",
        "\n",
        "\n",
        "\n",
        "\n",
        "\n",
        "\n",
        "agen=()\n",
        "\n",
        "print('1. Crear registro')\n",
        "print('2. Modificar registro')\n",
        "print('3. Eliminar registro')\n",
        "print('4. Salir')\n",
        "\n",
        "p=int(input(\"Elige opción \"))\n",
        "\n",
        "if p==1:\n",
        "  fn01()\n",
        "if p==2:\n",
        "  fn02()\n",
        "if p==3:\n",
        "  print(2)\n",
        "if p==4:\n",
        "  fn04()"
      ]
    },
    {
      "cell_type": "code",
      "source": [
        "mat=[]\n"
      ],
      "metadata": {
        "id": "IyTsS_TFsiMh"
      },
      "execution_count": null,
      "outputs": []
    },
    {
      "cell_type": "code",
      "source": [
        "#from github.com import folder\n",
        "\n",
        "import os\n",
        "import ee\n",
        "\n"
      ],
      "metadata": {
        "id": "b9LtCv7Ov5zw"
      },
      "execution_count": 28,
      "outputs": []
    },
    {
      "cell_type": "code",
      "source": [],
      "metadata": {
        "id": "AH5qSvho9XVT"
      },
      "execution_count": null,
      "outputs": []
    }
  ],
  "metadata": {
    "colab": {
      "provenance": [],
      "authorship_tag": "ABX9TyMVfNu5AJraRw0ds7UJQ3A+",
      "include_colab_link": true
    },
    "kernelspec": {
      "display_name": "Python 3",
      "name": "python3"
    },
    "language_info": {
      "name": "python"
    }
  },
  "nbformat": 4,
  "nbformat_minor": 0
}